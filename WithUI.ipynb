{
 "cells": [
  {
   "cell_type": "code",
   "execution_count": null,
   "metadata": {},
   "outputs": [],
   "source": [
    "import streamlit as st\n",
    "import numpy as np\n",
    "import tensorflow as tf\n",
    "import os\n",
    "import pickle\n",
    "import pandas as pd\n",
    "from tensorflow.keras.applications import ResNet50, VGG16\n",
    "from tensorflow.keras.models import Model\n",
    "from tensorflow.keras.layers import GlobalAveragePooling2D\n",
    "from tensorflow.keras.preprocessing import image\n",
    "from sklearn.metrics.pairwise import cosine_similarity"
   ]
  },
  {
   "cell_type": "code",
   "execution_count": 11,
   "metadata": {},
   "outputs": [],
   "source": [
    "def build_feature_extractor(model_name):\n",
    "    if model_name == 'resnet50':\n",
    "        base_model = ResNet50(weights='imagenet', include_top=False)\n",
    "    elif model_name == 'vgg16':\n",
    "        base_model = VGG16(weights='imagenet', include_top=False)\n",
    "    else:\n",
    "        raise ValueError(\"Model not supported.\")\n",
    "    \n",
    "    base_model.trainable = False\n",
    "    x = GlobalAveragePooling2D()(base_model.output)\n",
    "    model = Model(inputs=base_model.input, outputs=x)\n",
    "    return model\n",
    "\n",
    "feature_extractor_resnet = build_feature_extractor('resnet50')\n",
    "feature_extractor_vgg16 = build_feature_extractor('vgg16')"
   ]
  },
  {
   "cell_type": "code",
   "execution_count": 12,
   "metadata": {},
   "outputs": [],
   "source": [
    "def preprocess_resnet(img):\n",
    "    img = img.resize((224, 224))\n",
    "    img_array = image.img_to_array(img)\n",
    "    img_array = tf.keras.applications.resnet50.preprocess_input(img_array)\n",
    "    return np.expand_dims(img_array, axis=0)\n",
    "\n",
    "def preprocess_vgg(img):\n",
    "    img = img.resize((224, 224))\n",
    "    img_array = image.img_to_array(img)\n",
    "    img_array = tf.keras.applications.vgg16.preprocess_input(img_array)\n",
    "    return np.expand_dims(img_array, axis=0)"
   ]
  },
  {
   "cell_type": "code",
   "execution_count": 13,
   "metadata": {},
   "outputs": [],
   "source": [
    "signature_database_resnet = {}\n",
    "signature_database_vgg16 = {}"
   ]
  },
  {
   "cell_type": "code",
   "execution_count": 14,
   "metadata": {},
   "outputs": [],
   "source": [
    "def store_genuine_signature(user_id, img):\n",
    "    img_resnet = preprocess_resnet(img)\n",
    "    features_resnet = feature_extractor_resnet.predict(img_resnet)\n",
    "    signature_database_resnet[user_id] = features_resnet.reshape(1, -1)\n",
    "    \n",
    "    img_vgg = preprocess_vgg(img)\n",
    "    features_vgg = feature_extractor_vgg16.predict(img_vgg)\n",
    "    signature_database_vgg16[user_id] = features_vgg.reshape(1, -1)"
   ]
  },
  {
   "cell_type": "code",
   "execution_count": 6,
   "metadata": {},
   "outputs": [],
   "source": [
    "def verify_signature(user_id, input_img, threshold=0.85):\n",
    "    if user_id not in signature_database_resnet or user_id not in signature_database_vgg16:\n",
    "        return \"User not found.\"\n",
    "    \n",
    "    stored_resnet = signature_database_resnet[user_id]\n",
    "    stored_vgg = signature_database_vgg16[user_id]\n",
    "    \n",
    "    input_resnet = preprocess_resnet(input_img)\n",
    "    input_vgg = preprocess_vgg(input_img)\n",
    "    \n",
    "    input_features_resnet = feature_extractor_resnet.predict(input_resnet).reshape(1, -1)\n",
    "    input_features_vgg = feature_extractor_vgg16.predict(input_vgg).reshape(1, -1)\n",
    "    \n",
    "    similarity_resnet = cosine_similarity(stored_resnet, input_features_resnet)[0][0]\n",
    "    similarity_vgg = cosine_similarity(stored_vgg, input_features_vgg)[0][0]\n",
    "    \n",
    "    resnet_result = \"Genuine\" if similarity_resnet >= threshold else \"Forged\"\n",
    "    vgg_result = \"Genuine\" if similarity_vgg >= threshold else \"Forged\"\n",
    "    \n",
    "    return f\"ResNet-50: {resnet_result} (Score: {similarity_resnet:.2f})\\nVGG-16: {vgg_result} (Score: {similarity_vgg:.2f})\""
   ]
  },
  {
   "cell_type": "code",
   "execution_count": 15,
   "metadata": {},
   "outputs": [
    {
     "name": "stderr",
     "output_type": "stream",
     "text": [
      "2025-03-08 08:55:29.608 Thread 'MainThread': missing ScriptRunContext! This warning can be ignored when running in bare mode.\n",
      "2025-03-08 08:55:29.611 Thread 'MainThread': missing ScriptRunContext! This warning can be ignored when running in bare mode.\n",
      "2025-03-08 08:55:29.613 Thread 'MainThread': missing ScriptRunContext! This warning can be ignored when running in bare mode.\n",
      "2025-03-08 08:55:29.615 Thread 'MainThread': missing ScriptRunContext! This warning can be ignored when running in bare mode.\n",
      "2025-03-08 08:55:29.617 Thread 'MainThread': missing ScriptRunContext! This warning can be ignored when running in bare mode.\n",
      "2025-03-08 08:55:29.618 Thread 'MainThread': missing ScriptRunContext! This warning can be ignored when running in bare mode.\n",
      "2025-03-08 08:55:29.621 Thread 'MainThread': missing ScriptRunContext! This warning can be ignored when running in bare mode.\n",
      "2025-03-08 08:55:29.622 Thread 'MainThread': missing ScriptRunContext! This warning can be ignored when running in bare mode.\n",
      "2025-03-08 08:55:29.626 Thread 'MainThread': missing ScriptRunContext! This warning can be ignored when running in bare mode.\n",
      "2025-03-08 08:55:29.628 Thread 'MainThread': missing ScriptRunContext! This warning can be ignored when running in bare mode.\n",
      "2025-03-08 08:55:29.628 Thread 'MainThread': missing ScriptRunContext! This warning can be ignored when running in bare mode.\n",
      "2025-03-08 08:55:29.631 Thread 'MainThread': missing ScriptRunContext! This warning can be ignored when running in bare mode.\n",
      "2025-03-08 08:55:29.632 Thread 'MainThread': missing ScriptRunContext! This warning can be ignored when running in bare mode.\n",
      "2025-03-08 08:55:29.634 Thread 'MainThread': missing ScriptRunContext! This warning can be ignored when running in bare mode.\n",
      "2025-03-08 08:55:29.636 Thread 'MainThread': missing ScriptRunContext! This warning can be ignored when running in bare mode.\n",
      "2025-03-08 08:55:29.637 Thread 'MainThread': missing ScriptRunContext! This warning can be ignored when running in bare mode.\n",
      "2025-03-08 08:55:29.639 Thread 'MainThread': missing ScriptRunContext! This warning can be ignored when running in bare mode.\n",
      "2025-03-08 08:55:29.641 Thread 'MainThread': missing ScriptRunContext! This warning can be ignored when running in bare mode.\n"
     ]
    }
   ],
   "source": [
    "st.title(\"Signature Verification System\")\n",
    "user_id = st.text_input(\"Enter User ID\")\n",
    "uploaded_signature = st.file_uploader(\"Upload Genuine Signature\", type=[\"png\", \"jpg\", \"jpeg\"])\n",
    "uploaded_test_signature = st.file_uploader(\"Upload Signature to Verify\", type=[\"png\", \"jpg\", \"jpeg\"])"
   ]
  },
  {
   "cell_type": "code",
   "execution_count": 8,
   "metadata": {},
   "outputs": [
    {
     "name": "stderr",
     "output_type": "stream",
     "text": [
      "2025-03-08 08:54:40.876 Thread 'MainThread': missing ScriptRunContext! This warning can be ignored when running in bare mode.\n",
      "2025-03-08 08:54:40.878 Thread 'MainThread': missing ScriptRunContext! This warning can be ignored when running in bare mode.\n",
      "2025-03-08 08:54:40.880 Thread 'MainThread': missing ScriptRunContext! This warning can be ignored when running in bare mode.\n",
      "2025-03-08 08:54:40.881 Thread 'MainThread': missing ScriptRunContext! This warning can be ignored when running in bare mode.\n",
      "2025-03-08 08:54:40.882 Thread 'MainThread': missing ScriptRunContext! This warning can be ignored when running in bare mode.\n"
     ]
    }
   ],
   "source": [
    "if st.button(\"Store Genuine Signature\"):\n",
    "    if user_id and uploaded_signature:\n",
    "        img = image.load_img(uploaded_signature)\n",
    "        store_genuine_signature(user_id, img)\n",
    "        st.success(f\"Stored genuine signature for user {user_id}.\")\n",
    "    else:\n",
    "        st.error(\"Please enter a user ID and upload a signature.\")"
   ]
  },
  {
   "cell_type": "code",
   "execution_count": 9,
   "metadata": {},
   "outputs": [
    {
     "name": "stderr",
     "output_type": "stream",
     "text": [
      "2025-03-08 08:54:47.042 Thread 'MainThread': missing ScriptRunContext! This warning can be ignored when running in bare mode.\n",
      "2025-03-08 08:54:47.044 Thread 'MainThread': missing ScriptRunContext! This warning can be ignored when running in bare mode.\n",
      "2025-03-08 08:54:47.046 Thread 'MainThread': missing ScriptRunContext! This warning can be ignored when running in bare mode.\n",
      "2025-03-08 08:54:47.047 Thread 'MainThread': missing ScriptRunContext! This warning can be ignored when running in bare mode.\n",
      "2025-03-08 08:54:47.050 Thread 'MainThread': missing ScriptRunContext! This warning can be ignored when running in bare mode.\n"
     ]
    }
   ],
   "source": [
    "if st.button(\"Verify Signature\"):\n",
    "    if user_id and uploaded_test_signature:\n",
    "        img = image.load_img(uploaded_test_signature)\n",
    "        result = verify_signature(user_id, img)\n",
    "        st.write(result)\n",
    "    else:\n",
    "        st.error(\"Please enter a user ID and upload a signature to verify.\")"
   ]
  },
  {
   "cell_type": "code",
   "execution_count": null,
   "metadata": {},
   "outputs": [],
   "source": []
  }
 ],
 "metadata": {
  "kernelspec": {
   "display_name": "Python 3",
   "language": "python",
   "name": "python3"
  },
  "language_info": {
   "codemirror_mode": {
    "name": "ipython",
    "version": 3
   },
   "file_extension": ".py",
   "mimetype": "text/x-python",
   "name": "python",
   "nbconvert_exporter": "python",
   "pygments_lexer": "ipython3",
   "version": "3.9.13"
  }
 },
 "nbformat": 4,
 "nbformat_minor": 2
}
