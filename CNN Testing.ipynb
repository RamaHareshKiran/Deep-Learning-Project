{
 "cells": [
  {
   "cell_type": "code",
   "execution_count": 1,
   "id": "fe6451e7-1909-4144-8379-1273d6b02161",
   "metadata": {},
   "outputs": [
    {
     "name": "stdout",
     "output_type": "stream",
     "text": [
      "WARNING:tensorflow:From C:\\Users\\vhkha\\AppData\\Local\\Packages\\PythonSoftwareFoundation.Python.3.9_qbz5n2kfra8p0\\LocalCache\\local-packages\\Python39\\site-packages\\keras\\src\\losses.py:2976: The name tf.losses.sparse_softmax_cross_entropy is deprecated. Please use tf.compat.v1.losses.sparse_softmax_cross_entropy instead.\n",
      "\n"
     ]
    }
   ],
   "source": [
    "import numpy as np\n",
    "import tensorflow as tf\n",
    "from tensorflow.keras.applications import ResNet50, VGG16\n",
    "from tensorflow.keras.models import Model\n",
    "from tensorflow.keras.layers import GlobalAveragePooling2D, Dense\n",
    "from tensorflow.keras.preprocessing import image\n",
    "from sklearn.metrics.pairwise import cosine_similarity\n",
    "import os"
   ]
  },
  {
   "cell_type": "code",
   "execution_count": 2,
   "id": "79868b3c-780f-4ae6-8805-07cee521cfa8",
   "metadata": {},
   "outputs": [],
   "source": [
    "def build_feature_extractor(model_name):\n",
    "    if model_name == 'resnet50':\n",
    "        base_model = ResNet50(weights='imagenet', include_top=False)\n",
    "    elif model_name == 'vgg16':\n",
    "        base_model = VGG16(weights='imagenet', include_top=False)\n",
    "    else:\n",
    "        raise ValueError(\"Model not supported.\")\n",
    "    \n",
    "    base_model.trainable = False\n",
    "    x = GlobalAveragePooling2D()(base_model.output)\n",
    "    model = Model(inputs=base_model.input, outputs=x)\n",
    "    return model"
   ]
  },
  {
   "cell_type": "code",
   "execution_count": 3,
   "id": "c0c90137-650c-45db-8eda-867289f9f5d2",
   "metadata": {},
   "outputs": [
    {
     "name": "stdout",
     "output_type": "stream",
     "text": [
      "WARNING:tensorflow:From C:\\Users\\vhkha\\AppData\\Local\\Packages\\PythonSoftwareFoundation.Python.3.9_qbz5n2kfra8p0\\LocalCache\\local-packages\\Python39\\site-packages\\keras\\src\\backend.py:1398: The name tf.executing_eagerly_outside_functions is deprecated. Please use tf.compat.v1.executing_eagerly_outside_functions instead.\n",
      "\n",
      "WARNING:tensorflow:From C:\\Users\\vhkha\\AppData\\Local\\Packages\\PythonSoftwareFoundation.Python.3.9_qbz5n2kfra8p0\\LocalCache\\local-packages\\Python39\\site-packages\\keras\\src\\layers\\normalization\\batch_normalization.py:979: The name tf.nn.fused_batch_norm is deprecated. Please use tf.compat.v1.nn.fused_batch_norm instead.\n",
      "\n"
     ]
    }
   ],
   "source": [
    "feature_extractor_resnet = build_feature_extractor('resnet50')\n",
    "feature_extractor_vgg16 = build_feature_extractor('vgg16')"
   ]
  },
  {
   "cell_type": "code",
   "execution_count": 4,
   "id": "d74e47ff-ab2b-4f22-8c6c-06d84ce0d4a5",
   "metadata": {},
   "outputs": [],
   "source": [
    "def preprocess_resnet(img_path):\n",
    "    img = image.load_img(img_path, target_size=(224, 224))\n",
    "    img_array = image.img_to_array(img)\n",
    "    img_array = tf.keras.applications.resnet50.preprocess_input(img_array)\n",
    "    return np.expand_dims(img_array, axis=0)\n",
    "\n",
    "def preprocess_vgg(img_path):\n",
    "    img = image.load_img(img_path, target_size=(224, 224))\n",
    "    img_array = image.img_to_array(img)\n",
    "    img_array = tf.keras.applications.vgg16.preprocess_input(img_array)\n",
    "    return np.expand_dims(img_array, axis=0)"
   ]
  },
  {
   "cell_type": "code",
   "execution_count": 5,
   "id": "f25600de-f9ff-4053-8f9b-406ab95f9245",
   "metadata": {},
   "outputs": [],
   "source": [
    "# Database to store genuine signatures\n",
    "signature_database_resnet = {}\n",
    "signature_database_vgg16 = {}\n",
    "\n",
    "# Store genuine signatures\n",
    "def store_genuine_signature(user_id, img_path):\n",
    "    # Preprocess for ResNet-50\n",
    "    img_resnet = preprocess_resnet(img_path)\n",
    "    features_resnet = feature_extractor_resnet.predict(img_resnet)\n",
    "    signature_database_resnet[user_id] = features_resnet.reshape(1, -1)  # (1, 2048)\n",
    "\n",
    "    # Preprocess for VGG-16\n",
    "    img_vgg = preprocess_vgg(img_path)\n",
    "    features_vgg = feature_extractor_vgg16.predict(img_vgg)\n",
    "    signature_database_vgg16[user_id] = features_vgg.reshape(1, -1)  # (1, 512)\n",
    "\n",
    "    print(f\"Stored genuine signature for user {user_id}.\")"
   ]
  },
  {
   "cell_type": "code",
   "execution_count": 6,
   "id": "df0d6c74-f443-418c-a6bf-c4dc01533aaf",
   "metadata": {},
   "outputs": [],
   "source": [
    "def verify_signature(user_id, input_img_path, threshold=0.85):\n",
    "    # Check if user exists\n",
    "    if user_id not in signature_database_resnet or user_id not in signature_database_vgg16:\n",
    "        raise ValueError(\"User not found.\")\n",
    "\n",
    "    # Load stored features\n",
    "    stored_resnet = signature_database_resnet[user_id]  # (1, 2048)\n",
    "    stored_vgg = signature_database_vgg16[user_id]      # (1, 512)\n",
    "\n",
    "    # Preprocess input for both models\n",
    "    input_resnet = preprocess_resnet(input_img_path)\n",
    "    input_vgg = preprocess_vgg(input_img_path)\n",
    "\n",
    "    # Extract features\n",
    "    input_features_resnet = feature_extractor_resnet.predict(input_resnet).reshape(1, -1)\n",
    "    input_features_vgg = feature_extractor_vgg16.predict(input_vgg).reshape(1, -1)\n",
    "\n",
    "    # Compute similarities\n",
    "    similarity_resnet = cosine_similarity(stored_resnet, input_features_resnet)[0][0]\n",
    "    similarity_vgg = cosine_similarity(stored_vgg, input_features_vgg)[0][0]\n",
    "\n",
    "    # Results\n",
    "    resnet_result = \"Genuine\" if similarity_resnet >= threshold else \"Forged\"\n",
    "    vgg_result = \"Genuine\" if similarity_vgg >= threshold else \"Forged\"\n",
    "\n",
    "    print(f\"ResNet-50: {resnet_result} (Score: {similarity_resnet:.2f})\")\n",
    "    print(f\"VGG-16: {vgg_result} (Score: {similarity_vgg:.2f})\")"
   ]
  },
  {
   "cell_type": "code",
   "execution_count": 7,
   "id": "75e670a7-b558-4af6-99e5-bf46a608ea32",
   "metadata": {},
   "outputs": [
    {
     "name": "stdout",
     "output_type": "stream",
     "text": [
      "1/1 [==============================] - 1s 1s/step\n",
      "1/1 [==============================] - 0s 299ms/step\n",
      "Stored genuine signature for user user_1.\n",
      "1/1 [==============================] - 0s 123ms/step\n",
      "1/1 [==============================] - 0s 231ms/step\n",
      "Stored genuine signature for user user_2.\n",
      "1/1 [==============================] - 0s 137ms/step\n",
      "1/1 [==============================] - 0s 127ms/step\n",
      "ResNet-50: Genuine (Score: 0.92)\n",
      "VGG-16: Genuine (Score: 0.89)\n",
      "1/1 [==============================] - 0s 124ms/step\n",
      "1/1 [==============================] - 0s 153ms/step\n",
      "ResNet-50: Forged (Score: 0.72)\n",
      "VGG-16: Forged (Score: 0.68)\n"
     ]
    }
   ],
   "source": [
    "store_genuine_signature('user_1', 'real_signatures/001001_001.png')\n",
    "store_genuine_signature('user_2', 'real_signatures/001001_001.png')\n",
    "verify_signature('user_1', 'forged_signatures/021001_000.png')\n",
    "verify_signature('user_2', 'forged_signatures/021012_000.png')"
   ]
  }
 ],
 "metadata": {
  "kernelspec": {
   "display_name": "Python 3 (ipykernel)",
   "language": "python",
   "name": "python3"
  },
  "language_info": {
   "codemirror_mode": {
    "name": "ipython",
    "version": 3
   },
   "file_extension": ".py",
   "mimetype": "text/x-python",
   "name": "python",
   "nbconvert_exporter": "python",
   "pygments_lexer": "ipython3",
   "version": "3.9.13"
  }
 },
 "nbformat": 4,
 "nbformat_minor": 5
}
